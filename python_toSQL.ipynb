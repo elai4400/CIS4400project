{
 "cells": [
  {
   "cell_type": "markdown",
   "metadata": {},
   "source": [
    "## Installing neccessary packages"
   ]
  },
  {
   "cell_type": "code",
   "execution_count": null,
   "metadata": {},
   "outputs": [],
   "source": [
    "pip install google-cloud-bigquery\n",
    "pip install --upgrade google-auth\n",
    "pip install pandas_gbq"
   ]
  },
  {
   "cell_type": "markdown",
   "metadata": {},
   "source": [
    "## Connecting to the cloud using a json file that I downloaded for authentication:"
   ]
  },
  {
   "cell_type": "code",
   "execution_count": null,
   "metadata": {},
   "outputs": [],
   "source": [
    "from google.cloud import bigquery\n",
    "from google.oauth2 import service_account\n",
    "\n",
    "credentials = service_account.Credentials.from_service_account_file('C:/Users/elais/CIS4400-Group-3d11c40a3827.json')\n",
    "project_id = 'cis4400-group'\n",
    "client = bigquery.Client(credentials=credentials,project=project_id)\n",
    "\n",
    "print(client)"
   ]
  },
  {
   "cell_type": "markdown",
   "metadata": {},
   "source": [
    "## Creating the dataset on GBQ:"
   ]
  },
  {
   "cell_type": "code",
   "execution_count": null,
   "metadata": {},
   "outputs": [],
   "source": [
    "dataset_ref = client.dataset('NBA_All_Decade')\n",
    "\n",
    "dataset_object = bigquery.Dataset(dataset_ref)\n",
    "gbq_dataset = client.create_dataset(dataset_object)\n",
    "print('Dataset {} created.'.format(gbq_dataset.dataset_id))"
   ]
  },
  {
   "cell_type": "code",
   "execution_count": null,
   "metadata": {},
   "outputs": [],
   "source": [
    "print(dataset_ref)"
   ]
  },
  {
   "cell_type": "markdown",
   "metadata": {},
   "source": [
    "## Creating pandas DFs to match our relational model and loading the data to gbq:"
   ]
  },
  {
   "cell_type": "code",
   "execution_count": null,
   "metadata": {},
   "outputs": [],
   "source": [
    "# importing necessary modules\n",
    "from google.cloud import bigquery\n",
    "import pandas as pd"
   ]
  },
  {
   "cell_type": "code",
   "execution_count": null,
   "metadata": {},
   "outputs": [],
   "source": [
    "# Reading csv files and creating dataframes to load to my data warehouse\n",
    "matchesDim = pd.read_csv('NBA_Games_all_Decade - NBA_Games_all_Decade.csv')\n",
    "matchesDim['Date'] = pd.to_datetime(matchesDim.Date) # Changing date to be datetime type so we can analyze by dates\n",
    "playerDim = pd.read_csv('Players_3D.csv')\n",
    "DateDim = pd.DataFrame(matchesDim['Date'])\n",
    "DateDim['Date'] = pd.to_datetime(DateDim.Date)\n",
    "DateDim['Month'] = pd.DatetimeIndex(DateDim['Date']).month # adding broken-down date columns for further analysis\n",
    "DateDim['DayOfMonth'] = pd.DatetimeIndex(DateDim['Date']).day\n",
    "DateDim['Year'] = pd.DatetimeIndex(DateDim['Date']).year\n",
    "DateDim['DayOfWeek'] = DateDim['Date'].dt.day_name()"
   ]
  },
  {
   "cell_type": "code",
   "execution_count": null,
   "metadata": {},
   "outputs": [],
   "source": [
    "# Loading all dataframes to my data warehouse as tables\n",
    "matchesDim.to_gbq('Decade.MatchesDimension', project_id='cis4400-group')\n",
    "playerDim.to_gbq('NBA_All_DNBA_All_ecade.PlayersDimension', project_id='cis4400-group')\n",
    "DateDim.to_gbq('NBA_All_Decade.DatesDimension', project_id='cis4400-group')"
   ]
  }
 ],
 "metadata": {
  "kernelspec": {
   "display_name": "Python 3",
   "language": "python",
   "name": "python3"
  },
  "language_info": {
   "codemirror_mode": {
    "name": "ipython",
    "version": 3
   },
   "file_extension": ".py",
   "mimetype": "text/x-python",
   "name": "python",
   "nbconvert_exporter": "python",
   "pygments_lexer": "ipython3",
   "version": "3.8.3"
  }
 },
 "nbformat": 4,
 "nbformat_minor": 4
}
