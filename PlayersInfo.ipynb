{
 "cells": [
  {
   "cell_type": "code",
   "execution_count": null,
   "metadata": {},
   "outputs": [],
   "source": [
    "# Importing necessary modules\n",
    "import requests as rq\n",
    "from bs4 import BeautifulSoup\n",
    "import pandas as pd"
   ]
  },
  {
   "cell_type": "code",
   "execution_count": null,
   "metadata": {},
   "outputs": [],
   "source": [
    "# Setting up the URLs (four pages of one table) to scrape from  \n",
    "urls = ['https://www.basketball-reference.com/play-index/psl_finder.cgi?request=1&match=single&type=per_game&per_minute_base=36&per_poss_base=100&lg_id=NBA&is_playoffs=N&year_min=2020&year_max=2020&franch_id=&season_start=1&season_end=-1&age_min=0&age_max=99&shoot_hand=&height_min=0&height_max=99&birth_country_is=Y&birth_country=&birth_state=&college_id=&draft_year=&is_active=&debut_yr_nba_start=&debut_yr_nba_end=&is_hof=&is_as=&as_comp=gt&as_val=0&award=&pos_is_g=Y&pos_is_gf=Y&pos_is_f=Y&pos_is_fg=Y&pos_is_fc=Y&pos_is_c=Y&pos_is_cf=Y&qual=&c1stat=g&c1comp=gt&c1val=25&c2stat=mp_per_g&c2comp=gt&c2val=12&c3stat=def_rtg&c3comp=gt&c3val=&c4stat=usg_pct&c4comp=gt&c4val=&c5stat=def_rtg&c5comp=gt&c6mult=&c6stat=&order_by=dws&order_by_asc=&offset=0', \n",
    "        'https://www.basketball-reference.com/play-index/psl_finder.cgi?request=1&match=single&type=per_game&per_minute_base=36&per_poss_base=100&lg_id=NBA&is_playoffs=N&year_min=2020&year_max=2020&franch_id=&season_start=1&season_end=-1&age_min=0&age_max=99&shoot_hand=&height_min=0&height_max=99&birth_country_is=Y&birth_country=&birth_state=&college_id=&draft_year=&is_active=&debut_yr_nba_start=&debut_yr_nba_end=&is_hof=&is_as=&as_comp=gt&as_val=0&award=&pos_is_g=Y&pos_is_gf=Y&pos_is_f=Y&pos_is_fg=Y&pos_is_fc=Y&pos_is_c=Y&pos_is_cf=Y&qual=&c1stat=g&c1comp=gt&c1val=25&c2stat=mp_per_g&c2comp=gt&c2val=12&c3stat=def_rtg&c3comp=gt&c3val=&c4stat=usg_pct&c4comp=gt&c4val=&c5stat=def_rtg&c5comp=gt&c6mult=&c6stat=&order_by=dws&order_by_asc=&offset=100', \n",
    "        'https://www.basketball-reference.com/play-index/psl_finder.cgi?request=1&match=single&type=per_game&per_minute_base=36&per_poss_base=100&lg_id=NBA&is_playoffs=N&year_min=2020&year_max=2020&franch_id=&season_start=1&season_end=-1&age_min=0&age_max=99&shoot_hand=&height_min=0&height_max=99&birth_country_is=Y&birth_country=&birth_state=&college_id=&draft_year=&is_active=&debut_yr_nba_start=&debut_yr_nba_end=&is_hof=&is_as=&as_comp=gt&as_val=0&award=&pos_is_g=Y&pos_is_gf=Y&pos_is_f=Y&pos_is_fg=Y&pos_is_fc=Y&pos_is_c=Y&pos_is_cf=Y&qual=&c1stat=g&c1comp=gt&c1val=25&c2stat=mp_per_g&c2comp=gt&c2val=12&c3stat=def_rtg&c3comp=gt&c3val=&c4stat=usg_pct&c4comp=gt&c4val=&c5stat=def_rtg&c5comp=gt&c6mult=&c6stat=&order_by=dws&order_by_asc=&offset=200',\n",
    "        'https://www.basketball-reference.com/play-index/psl_finder.cgi?request=1&match=single&type=per_game&per_minute_base=36&per_poss_base=100&lg_id=NBA&is_playoffs=N&year_min=2020&year_max=2020&franch_id=&season_start=1&season_end=-1&age_min=0&age_max=99&shoot_hand=&height_min=0&height_max=99&birth_country_is=Y&birth_country=&birth_state=&college_id=&draft_year=&is_active=&debut_yr_nba_start=&debut_yr_nba_end=&is_hof=&is_as=&as_comp=gt&as_val=0&award=&pos_is_g=Y&pos_is_gf=Y&pos_is_f=Y&pos_is_fg=Y&pos_is_fc=Y&pos_is_c=Y&pos_is_cf=Y&qual=&c1stat=g&c1comp=gt&c1val=25&c2stat=mp_per_g&c2comp=gt&c2val=12&c3stat=def_rtg&c3comp=gt&c3val=&c4stat=usg_pct&c4comp=gt&c4val=&c5stat=def_rtg&c5comp=gt&c6mult=&c6stat=&order_by=dws&order_by_asc=&offset=300']\n",
    "\n",
    "# creating empty lists outside of loop to use inside the loop, and store data in.\n",
    "all_stats_byrow = []\n",
    "player_names_list = []\n",
    "temp = []\n",
    "    \n",
    "for url in urls:\n",
    "    r_bbref_3d = rq.get(url)\n",
    "    stats_bbref_soup = BeautifulSoup(r_bbref_3d.text, 'lxml')\n",
    "    \n",
    "    # Extracting table headers\n",
    "    look_for_headers = stats_bbref_soup.table.thead.find_all('tr')\n",
    "    look_for_headers[:1]\n",
    "    headers_list = look_for_headers[1].text\n",
    "    headers_list = headers_list.split('\\n')\n",
    "    headers_list = headers_list[2:-1]\n",
    "        \n",
    "    # Extracting all data from the table, row by row\n",
    "    every_row = stats_bbref_soup.table.tbody.find_all('tr')  \n",
    "    for row in every_row:\n",
    "        list_of_stats = row.find_all('td')\n",
    "        for td in list_of_stats:\n",
    "            stat = td.text\n",
    "            temp.append(stat)\n",
    "        all_stats_byrow.append(temp)\n",
    "        temp = []\n",
    "        \n",
    "# Cleaning the data. Fixing NAs, replacing missing data, and changing data types for certain columns.\n",
    "allstats_df = pd.DataFrame(data=all_stats_byrow, columns=headers_list)\n",
    "allstats_df = allstats_df.dropna().set_index('Player')\n",
    "allstats_df.replace('','0', inplace=True)\n",
    "allstats_df['G'] = allstats_df['G'].astype(int)\n",
    "list_of_columns_ToBeFloats = allstats_df.columns[5:]\n",
    "for col in list_of_columns_ToBeFloats:\n",
    "    allstats_df[col] = allstats_df[col].astype(float)\n",
    "\n",
    "allstats_df"
   ]
  },
  {
   "cell_type": "code",
   "execution_count": null,
   "metadata": {},
   "outputs": [],
   "source": [
    "# Exporting the data to a csv file\n",
    "allstats_df.to_csv('bbref_3&d&usg.csv')"
   ]
  }
 ],
 "metadata": {
  "kernelspec": {
   "display_name": "Python 3",
   "language": "python",
   "name": "python3"
  },
  "language_info": {
   "codemirror_mode": {
    "name": "ipython",
    "version": 3
   },
   "file_extension": ".py",
   "mimetype": "text/x-python",
   "name": "python",
   "nbconvert_exporter": "python",
   "pygments_lexer": "ipython3",
   "version": "3.8.3"
  }
 },
 "nbformat": 4,
 "nbformat_minor": 4
}
