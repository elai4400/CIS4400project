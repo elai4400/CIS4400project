{
 "cells": [
  {
   "cell_type": "code",
   "execution_count": null,
   "metadata": {},
   "outputs": [],
   "source": [
    "import requests as rq\n",
    "from bs4 import BeautifulSoup\n",
    "import numpy as np\n",
    "import pandas as pd\n",
    "from datetime import datetime"
   ]
  },
  {
   "cell_type": "code",
   "execution_count": null,
   "metadata": {},
   "outputs": [],
   "source": [
    "# Setting up the URLs to scrape from.\n",
    "urls = ['https://www.basketball-reference.com/play-index/tgl_finder.cgi?request=1&match=game&lg_id=NBA&is_playoffs=N&team_seed_cmp=eq&opp_seed_cmp=eq&year_min=2011&year_max=2020&is_range=N&game_num_type=team&order_by=date_game']\n",
    "\n",
    "# Running a loop to go over all pages of the table we scrape the data from.\n",
    "qq = 'https://www.basketball-reference.com/play-index/tgl_finder.cgi?request=1&player=&match=game&lg_id=NBA&year_min=2011&year_max=2020&team_id=&opp_id=&is_range=N&is_playoffs=N&round_id=&best_of=&team_seed=&opp_seed=&team_seed_cmp=eq&opp_seed_cmp=eq&game_num_type=team&game_num_min=&game_num_max=&game_month=&game_location=H&game_result=&is_overtime=&c1stat=&c1comp=&c1val=&c2stat=&c2comp=&c2val=&c3stat=&c3comp=&c3val=&c4stat=&c4comp=&c4val=&order_by=date_game&order_by_asc=&offset='\n",
    "for i in range (100,11701,100):\n",
    "    y=str(i)\n",
    "    urls.append(qq+y)\n",
    "\n",
    "# Scraping table headers (aka labels) from the table\n",
    "r_bbref_3d = rq.get(urls[0])\n",
    "stats_bbref_soup = BeautifulSoup(r_bbref_3d.text, 'lxml')\n",
    "\n",
    "look_for_headers = stats_bbref_soup.table.thead.find_all('tr')\n",
    "look_for_headers[:1]\n",
    "headers_list = look_for_headers[1].text\n",
    "headers_list = headers_list.split('\\n')\n",
    "headers_list = headers_list[2:-1]\n",
    "\n",
    "# Adding 'OPP' to opponent statistics labels\n",
    "for i in range(19,32):\n",
    "    headers_list[i] = 'OPP '+headers_list[i]\n",
    "\n",
    "# Scraping all the data from the table, row by row\n",
    "team_stats_byrow = []\n",
    "temp = []\n",
    "\n",
    "for url in urls:\n",
    "    r_bbref_3d = rq.get(url)\n",
    "    stats_bbref_soup = BeautifulSoup(r_bbref_3d.text, 'lxml')\n",
    "            \n",
    "    every_row = stats_bbref_soup.table.tbody.find_all('tr')  \n",
    "    for row in every_row:\n",
    "        list_of_stats = row.find_all('td')\n",
    "        for td in list_of_stats:\n",
    "            stat = td.text\n",
    "            temp.append(stat)\n",
    "        team_stats_byrow.append(temp)\n",
    "        temp = []\n",
    "\n",
    "# Creating a data frame for all scraped data\n",
    "teamStats_df = pd.DataFrame(data=team_stats_byrow, columns=headers_list)\n",
    "teamStats_df = teamStats_df.drop(teamStats_df.columns[2], axis=1)\n",
    "teamStats_df = teamStats_df.dropna()\n",
    "\n",
    "teamStats_df[['MP', 'FG', 'FGA', '2P', '2PA', '3P', '3PA', 'FT', 'FTA', 'PTS', 'OPP FG', 'OPP FGA', 'OPP 2P', 'OPP 2PA', 'OPP 3P', 'OPP 3PA', 'OPP FT', 'OPP FTA', 'OPP PTS']] = teamStats_df[['MP', 'FG', 'FGA', '2P', '2PA', '3P', '3PA', 'FT', 'FTA', 'PTS', 'OPP FG', 'OPP FGA', 'OPP 2P', 'OPP 2PA', 'OPP 3P', 'OPP 3PA', 'OPP FT', 'OPP FTA', 'OPP PTS']].astype(int)\n",
    "teamStats_df[['FG%', '2P%', '3P%', 'FT%', 'OPP FG%', 'OPP 2P%', 'OPP 3P%', 'OPP FT%']] = teamStats_df[['FG%', '2P%', '3P%', 'FT%', 'OPP FG%', 'OPP 2P%', 'OPP 3P%', 'OPP FT%']].astype(float)\n",
    "teamStats_df['Date'] = pd.to_datetime(teamStats_df['Date'])\n",
    "\n",
    "teamStats_df"
   ]
  },
  {
   "cell_type": "code",
   "execution_count": null,
   "metadata": {},
   "outputs": [],
   "source": [
    "# Exporting the dataframe to a csv file\n",
    "teamStats_df.to_csv('NBA_Games_all_Decade.csv')"
   ]
  }
 ],
 "metadata": {
  "kernelspec": {
   "display_name": "Python 3",
   "language": "python",
   "name": "python3"
  },
  "language_info": {
   "codemirror_mode": {
    "name": "ipython",
    "version": 3
   },
   "file_extension": ".py",
   "mimetype": "text/x-python",
   "name": "python",
   "nbconvert_exporter": "python",
   "pygments_lexer": "ipython3",
   "version": "3.8.3"
  }
 },
 "nbformat": 4,
 "nbformat_minor": 4
}
